{
 "cells": [
  {
   "cell_type": "code",
   "execution_count": 6,
   "metadata": {},
   "outputs": [],
   "source": [
    "def my_sqrt(x):\n",
    "    r = x\n",
    "    while r*r > x:\n",
    "         r = (r + x/r) / 2 \n",
    "    return r"
   ]
  },
  {
   "cell_type": "code",
   "execution_count": 4,
   "metadata": {},
   "outputs": [],
   "source": [
    "from math import  sqrt"
   ]
  },
  {
   "cell_type": "code",
   "execution_count": 16,
   "metadata": {},
   "outputs": [
    {
     "name": "stdout",
     "output_type": "stream",
     "text": [
      "3.162277660168379 3.1622776601683795\n"
     ]
    }
   ],
   "source": [
    "print(my_sqrt(10) , sqrt(10))"
   ]
  },
  {
   "cell_type": "markdown",
   "metadata": {},
   "source": [
    "## Infinite monkey theroem"
   ]
  },
  {
   "cell_type": "code",
   "execution_count": 41,
   "metadata": {},
   "outputs": [],
   "source": [
    "\n",
    "def generate():\n",
    "    \"\"\"\n",
    "    generate a one-character-long string randomly form all alphabets plus space\n",
    "    \"\"\"\n",
    "    pass\n",
    "\n",
    "\n",
    "def score(string):\n",
    "    \"\"\"\n",
    "    compare the generated string with the target string to get a strong\n",
    "    \"\"\"\n",
    "    target = \"methinks it is like a weasel\"\n",
    "    score = sum([x == y for x,y in zip(string,target)])\n",
    "    return score\n",
    "\n",
    "\n",
    "def get_target_string():\n",
    "    \"\"\"\n",
    "    repeat the random generation of string till it reach the target\n",
    "    we only \n",
    "    \"\"\"\n",
    "    pass"
   ]
  },
  {
   "cell_type": "code",
   "execution_count": 32,
   "metadata": {},
   "outputs": [],
   "source": [
    "a = set([1,2,3])"
   ]
  },
  {
   "cell_type": "code",
   "execution_count": 33,
   "metadata": {},
   "outputs": [],
   "source": [
    "c = 'abc'\n",
    "d = 'acd'"
   ]
  },
  {
   "cell_type": "code",
   "execution_count": 37,
   "metadata": {},
   "outputs": [
    {
     "data": {
      "text/plain": [
       "1"
      ]
     },
     "execution_count": 37,
     "metadata": {},
     "output_type": "execute_result"
    }
   ],
   "source": [
    "sum([x == y for x,y in zip(c,d)]"
   ]
  },
  {
   "cell_type": "markdown",
   "metadata": {},
   "source": [
    "## A logic gates case（inheritance practice）"
   ]
  },
  {
   "cell_type": "code",
   "execution_count": 54,
   "metadata": {},
   "outputs": [],
   "source": [
    "# the base class of the gates\n",
    "class LogicGate:\n",
    "\n",
    "    def __init__(self,n):\n",
    "        self.label = n\n",
    "        self.output = None\n",
    "\n",
    "    def getLabel(self):\n",
    "        return self.label\n",
    "\n",
    "    def getOutput(self):\n",
    "        self.output = self.performGateLogic()\n",
    "        return self.output\n",
    "\n",
    "### Then from the very base class, we can build two categories of classes for the 3 kinds of gates\n",
    "\n",
    "class BinaryGate(LogicGate):\n",
    "\n",
    "    def __init__(self,n):\n",
    "        LogicGate.__init__(self,n)\n",
    "\n",
    "        self.pinA = None\n",
    "        self.pinB = None\n",
    "\n",
    "    def getPinA(self):\n",
    "        if self.pinA == None:\n",
    "            return int(input(\"Enter Pin A input for gate \"+ self.getLabel()+\"-->\"))\n",
    "        else:\n",
    "            return self.pinA.getOutput()\n",
    "\n",
    "    def getPinB(self):\n",
    "        if self.pinA == None:\n",
    "            return int(input(\"Enter Pin A input for gate \"+ self.getLabel()+\"-->\"))\n",
    "        else:\n",
    "            return self.pinB.getOutput()\n",
    "    def setNextPin(self,source):\n",
    "        if self.pinA  == None:\n",
    "            self.pinA = source\n",
    "        else:\n",
    "            if self.pinB == None:\n",
    "                self.pinB = source\n",
    "            else:\n",
    "                raise RuntimeError(\"Error: NO EMPTY PINS\")\n",
    "            \n",
    "\n",
    "class UnaryGate(LogicGate):\n",
    "    def __init__(self,n):\n",
    "        LogicGate.__init__(self,n)\n",
    "        \n",
    "        self.pin = None\n",
    "    def getPin(self):\n",
    "        if self.pin == None:\n",
    "            return int(input(\"Enter Pin B input for gate \"+ self.getLabel()+\"-->\"))\n",
    "        else:\n",
    "            return self.pin.getOutput()\n",
    "        \n",
    "    def setNextPin(self,source):\n",
    "        if self.pin == None:\n",
    "            self.pin = source\n",
    "        else:\n",
    "            raise RuntimeError(\"Error: NO EMPTY PINS\")\n",
    "\n",
    "### Now we can build the exact logic gates classes\n",
    "\n",
    "class AndGate(BinaryGate):\n",
    "    def __init__(self,n):\n",
    "        super(AndGate,self).__init__(n)\n",
    "    \n",
    "    def performGateLogic(self):\n",
    "        a = self.getPinA()\n",
    "        b = self.getPinB()\n",
    "        if a == 1 and b == 1:\n",
    "            return 1\n",
    "        else:\n",
    "            return 0\n",
    "\n",
    "class OrGate(BinaryGate):\n",
    "    def __init__(self,n):\n",
    "        super(OrGate,self).__init__(n)\n",
    "    \n",
    "    def performGateLogic(self):\n",
    "        a = self.getPinA()\n",
    "        b = self.getPinB()\n",
    "        if a == 0 and b == 0:\n",
    "            return 0\n",
    "        else:\n",
    "            return 1\n",
    "\n",
    "class NotGate(UnaryGate):\n",
    "    def __init__(self,n):\n",
    "        super(NotGate,self).__init__(n)\n",
    "    \n",
    "    def performGateLogic(self):\n",
    "        a = self.getPin()\n",
    "        if a == 1:\n",
    "            return 0\n",
    "        else:\n",
    "            return 1\n",
    "\n",
    "## Create a connector class to build the whole system\n",
    "\n",
    "class Connector:\n",
    "    def __init__(self,fgate,tgate):\n",
    "        self.fgate = fgate\n",
    "        self.tgate = tgate\n",
    "        \n",
    "        self.tgate.setNextPin(self.fgate)\n",
    "    def getTo(self):\n",
    "        return self.tgate\n",
    "\n",
    "    def getFrom(self):\n",
    "        return self.fgate\n",
    "        "
   ]
  },
  {
   "cell_type": "markdown",
   "metadata": {},
   "source": [
    "## Test the final system"
   ]
  },
  {
   "cell_type": "code",
   "execution_count": 121,
   "metadata": {},
   "outputs": [
    {
     "name": "stdout",
     "output_type": "stream",
     "text": [
      "Enter Pin A input for gate G1-->0\n",
      "Enter Pin A input for gate G1-->1\n",
      "Enter Pin A input for gate G2-->1\n",
      "Enter Pin A input for gate G2-->0\n",
      "1\n"
     ]
    }
   ],
   "source": [
    "def main():\n",
    "    g1 = AndGate(\"G1\")\n",
    "    g2 = AndGate(\"G2\")\n",
    "    g3 = OrGate(\"G3\")\n",
    "    g4 = NotGate(\"G4\")\n",
    "    c1 = Connector(g1,g3)\n",
    "    c2 = Connector(g2,g3)\n",
    "    c3 = Connector(g3,g4)\n",
    "    print(g4.getOutput())\n",
    "\n",
    "main()"
   ]
  },
  {
   "cell_type": "code",
   "execution_count": null,
   "metadata": {},
   "outputs": [],
   "source": []
  }
 ],
 "metadata": {
  "kernelspec": {
   "display_name": "Python 3",
   "language": "python",
   "name": "python3"
  },
  "language_info": {
   "codemirror_mode": {
    "name": "ipython",
    "version": 3
   },
   "file_extension": ".py",
   "mimetype": "text/x-python",
   "name": "python",
   "nbconvert_exporter": "python",
   "pygments_lexer": "ipython3",
   "version": "3.6.3"
  }
 },
 "nbformat": 4,
 "nbformat_minor": 2
}
